{
  "nbformat": 4,
  "nbformat_minor": 0,
  "metadata": {
    "colab": {
      "provenance": []
    },
    "kernelspec": {
      "name": "python3",
      "display_name": "Python 3"
    },
    "language_info": {
      "name": "python"
    }
  },
  "cells": [
    {
      "cell_type": "markdown",
      "source": [
        "# How to clean data"
      ],
      "metadata": {
        "id": "wIq9FyKfzMGE"
      }
    },
    {
      "cell_type": "markdown",
      "source": [
        "Data cleaning is a crucial step in the data science pipeline as the insights and results you produce is only as good as the data you have. As the old adage goes — garbage in, garbage out.\n",
        "\n",
        "Using dirty data to produce analysis will result in erroneous predictions that engenders bad decisions and dangerous outcomes. Not only that, most machine learning algorithms only work when your data is properly cleaned and fit for modeling."
      ],
      "metadata": {
        "id": "ZkrWzasEzg3T"
      }
    },
    {
      "cell_type": "markdown",
      "source": [
        "Here, we will be using the New York City Airbnb Open Data to perform data cleaning while focusing on following factors:\n",
        "\n",
        "1. Missing data\n",
        "2. Inconsistent data\n",
        "3. Duplicate data\n",
        "4. Irrelevant data\n",
        "5. Outliers"
      ],
      "metadata": {
        "id": "C75FbMDtzsGG"
      }
    },
    {
      "cell_type": "markdown",
      "source": [
        "## Importing Libraries"
      ],
      "metadata": {
        "id": "CYAQuTxt0OJS"
      }
    },
    {
      "cell_type": "markdown",
      "source": [
        "First we start by importing the necessary libraries for data cleaning."
      ],
      "metadata": {
        "id": "FyzDccJy0UvI"
      }
    },
    {
      "cell_type": "code",
      "source": [
        "import pandas as pd\n",
        "import numpy as np\n",
        "import matplotlib.pyplot as plt"
      ],
      "metadata": {
        "id": "vFklVfZa0VPE"
      },
      "execution_count": 33,
      "outputs": []
    },
    {
      "cell_type": "markdown",
      "source": [
        "## Load the data"
      ],
      "metadata": {
        "id": "BIUOFdt90gcc"
      }
    },
    {
      "cell_type": "markdown",
      "source": [
        "Now we can upload the csv file and import that data using pd.read_csv()\n",
        "Here, we will first get the copy of the original dataset using .copy(). It’s a good practice to copy the data set when you want to test something out so you won’t have to re-run the entire notebook if you make a mistake somewhere.\n"
      ],
      "metadata": {
        "id": "A-fBZQlL0zIX"
      }
    },
    {
      "cell_type": "markdown",
      "source": [
        "## Import Data from Google Drive\n",
        "\n"
      ],
      "metadata": {
        "id": "Twjng5x3bLKS"
      }
    },
    {
      "cell_type": "code",
      "source": [
        "from google.colab import drive\n",
        "drive.mount('/content/drive')"
      ],
      "metadata": {
        "colab": {
          "base_uri": "https://localhost:8080/"
        },
        "id": "qX00wnHfbAta",
        "outputId": "00a69ef6-bb11-4fdb-ce54-dd8552c84491"
      },
      "execution_count": 34,
      "outputs": [
        {
          "output_type": "stream",
          "name": "stdout",
          "text": [
            "Drive already mounted at /content/drive; to attempt to forcibly remount, call drive.mount(\"/content/drive\", force_remount=True).\n"
          ]
        }
      ]
    },
    {
      "cell_type": "code",
      "source": [
        "airbnb = pd.read_csv(\"/content/drive/MyDrive/IS723_2024S/airbnb.csv\")"
      ],
      "metadata": {
        "id": "lLiqH8uVcqLD"
      },
      "execution_count": 37,
      "outputs": []
    },
    {
      "cell_type": "markdown",
      "source": [
        "## Data info"
      ],
      "metadata": {
        "id": "NJDoK-Tb1zR8"
      }
    },
    {
      "cell_type": "markdown",
      "source": [
        "Calling info() on our dataset tells us tons of information about our data frame like the shape (rows, columns), the data type of our features, and the memory usage."
      ],
      "metadata": {
        "id": "-FCC8Eut11Te"
      }
    },
    {
      "cell_type": "code",
      "source": [
        "airbnb.info()"
      ],
      "metadata": {
        "colab": {
          "base_uri": "https://localhost:8080/"
        },
        "id": "RlBi-vlF1t2U",
        "outputId": "21224b84-2b89-4849-d72d-fbc76d5abb76"
      },
      "execution_count": 38,
      "outputs": [
        {
          "output_type": "stream",
          "name": "stdout",
          "text": [
            "<class 'pandas.core.frame.DataFrame'>\n",
            "RangeIndex: 48895 entries, 0 to 48894\n",
            "Data columns (total 17 columns):\n",
            " #   Column                          Non-Null Count  Dtype  \n",
            "---  ------                          --------------  -----  \n",
            " 0   Unnamed: 0                      48895 non-null  int64  \n",
            " 1   id                              48895 non-null  int64  \n",
            " 2   name                            48879 non-null  object \n",
            " 3   host_id                         48895 non-null  int64  \n",
            " 4   host_name                       48874 non-null  object \n",
            " 5   neighbourhood_group             48895 non-null  object \n",
            " 6   neighbourhood                   48895 non-null  object \n",
            " 7   latitude                        48895 non-null  float64\n",
            " 8   longitude                       48895 non-null  float64\n",
            " 9   room_type                       48895 non-null  object \n",
            " 10  price                           48895 non-null  int64  \n",
            " 11  minimum_nights                  48895 non-null  int64  \n",
            " 12  number_of_reviews               48895 non-null  int64  \n",
            " 13  last_review                     38843 non-null  object \n",
            " 14  reviews_per_month               38843 non-null  float64\n",
            " 15  calculated_host_listings_count  48895 non-null  int64  \n",
            " 16  availability_365                48895 non-null  int64  \n",
            "dtypes: float64(3), int64(8), object(6)\n",
            "memory usage: 6.3+ MB\n"
          ]
        }
      ]
    },
    {
      "cell_type": "markdown",
      "source": [
        "Use head() to preview the data"
      ],
      "metadata": {
        "id": "IqshFkkDqINq"
      }
    },
    {
      "cell_type": "code",
      "source": [
        "airbnb.head()"
      ],
      "metadata": {
        "colab": {
          "base_uri": "https://localhost:8080/",
          "height": 434
        },
        "id": "UJsI5xdqqFrc",
        "outputId": "a3c0a1aa-3f3f-4ecd-beae-8c6a234ee699"
      },
      "execution_count": 39,
      "outputs": [
        {
          "output_type": "execute_result",
          "data": {
            "text/plain": [
              "   Unnamed: 0    id                                              name  \\\n",
              "0           0  2539                Clean & quiet apt home by the park   \n",
              "1           1  2595                             Skylit Midtown Castle   \n",
              "2           2  3647               THE VILLAGE OF HARLEM....NEW YORK !   \n",
              "3           3  3831                   Cozy Entire Floor of Brownstone   \n",
              "4           4  5022  Entire Apt: Spacious Studio/Loft by central park   \n",
              "\n",
              "   host_id    host_name neighbourhood_group neighbourhood  latitude  \\\n",
              "0     2787         John            Brooklyn    Kensington  40.64749   \n",
              "1     2845     Jennifer           Manhattan       Midtown  40.75362   \n",
              "2     4632    Elisabeth           Manhattan        Harlem  40.80902   \n",
              "3     4869  LisaRoxanne            Brooklyn  Clinton Hill  40.68514   \n",
              "4     7192        Laura           Manhattan   East Harlem  40.79851   \n",
              "\n",
              "   longitude        room_type  price  minimum_nights  number_of_reviews  \\\n",
              "0  -73.97237     Private room    149               1                  9   \n",
              "1  -73.98377  Entire home/apt    225               1                 45   \n",
              "2  -73.94190     Private room    150               3                  0   \n",
              "3  -73.95976  Entire home/apt     89               1                270   \n",
              "4  -73.94399  Entire home/apt     80              10                  9   \n",
              "\n",
              "  last_review  reviews_per_month  calculated_host_listings_count  \\\n",
              "0  2018-10-19               0.21                               6   \n",
              "1  2019-05-21               0.38                               2   \n",
              "2         NaN                NaN                               1   \n",
              "3  2019-07-05               4.64                               1   \n",
              "4  2018-11-19               0.10                               1   \n",
              "\n",
              "   availability_365  \n",
              "0               365  \n",
              "1               355  \n",
              "2               365  \n",
              "3               194  \n",
              "4                 0  "
            ],
            "text/html": [
              "\n",
              "  <div id=\"df-41d950c6-e466-4f02-987d-574c3c269f7d\" class=\"colab-df-container\">\n",
              "    <div>\n",
              "<style scoped>\n",
              "    .dataframe tbody tr th:only-of-type {\n",
              "        vertical-align: middle;\n",
              "    }\n",
              "\n",
              "    .dataframe tbody tr th {\n",
              "        vertical-align: top;\n",
              "    }\n",
              "\n",
              "    .dataframe thead th {\n",
              "        text-align: right;\n",
              "    }\n",
              "</style>\n",
              "<table border=\"1\" class=\"dataframe\">\n",
              "  <thead>\n",
              "    <tr style=\"text-align: right;\">\n",
              "      <th></th>\n",
              "      <th>Unnamed: 0</th>\n",
              "      <th>id</th>\n",
              "      <th>name</th>\n",
              "      <th>host_id</th>\n",
              "      <th>host_name</th>\n",
              "      <th>neighbourhood_group</th>\n",
              "      <th>neighbourhood</th>\n",
              "      <th>latitude</th>\n",
              "      <th>longitude</th>\n",
              "      <th>room_type</th>\n",
              "      <th>price</th>\n",
              "      <th>minimum_nights</th>\n",
              "      <th>number_of_reviews</th>\n",
              "      <th>last_review</th>\n",
              "      <th>reviews_per_month</th>\n",
              "      <th>calculated_host_listings_count</th>\n",
              "      <th>availability_365</th>\n",
              "    </tr>\n",
              "  </thead>\n",
              "  <tbody>\n",
              "    <tr>\n",
              "      <th>0</th>\n",
              "      <td>0</td>\n",
              "      <td>2539</td>\n",
              "      <td>Clean &amp; quiet apt home by the park</td>\n",
              "      <td>2787</td>\n",
              "      <td>John</td>\n",
              "      <td>Brooklyn</td>\n",
              "      <td>Kensington</td>\n",
              "      <td>40.64749</td>\n",
              "      <td>-73.97237</td>\n",
              "      <td>Private room</td>\n",
              "      <td>149</td>\n",
              "      <td>1</td>\n",
              "      <td>9</td>\n",
              "      <td>2018-10-19</td>\n",
              "      <td>0.21</td>\n",
              "      <td>6</td>\n",
              "      <td>365</td>\n",
              "    </tr>\n",
              "    <tr>\n",
              "      <th>1</th>\n",
              "      <td>1</td>\n",
              "      <td>2595</td>\n",
              "      <td>Skylit Midtown Castle</td>\n",
              "      <td>2845</td>\n",
              "      <td>Jennifer</td>\n",
              "      <td>Manhattan</td>\n",
              "      <td>Midtown</td>\n",
              "      <td>40.75362</td>\n",
              "      <td>-73.98377</td>\n",
              "      <td>Entire home/apt</td>\n",
              "      <td>225</td>\n",
              "      <td>1</td>\n",
              "      <td>45</td>\n",
              "      <td>2019-05-21</td>\n",
              "      <td>0.38</td>\n",
              "      <td>2</td>\n",
              "      <td>355</td>\n",
              "    </tr>\n",
              "    <tr>\n",
              "      <th>2</th>\n",
              "      <td>2</td>\n",
              "      <td>3647</td>\n",
              "      <td>THE VILLAGE OF HARLEM....NEW YORK !</td>\n",
              "      <td>4632</td>\n",
              "      <td>Elisabeth</td>\n",
              "      <td>Manhattan</td>\n",
              "      <td>Harlem</td>\n",
              "      <td>40.80902</td>\n",
              "      <td>-73.94190</td>\n",
              "      <td>Private room</td>\n",
              "      <td>150</td>\n",
              "      <td>3</td>\n",
              "      <td>0</td>\n",
              "      <td>NaN</td>\n",
              "      <td>NaN</td>\n",
              "      <td>1</td>\n",
              "      <td>365</td>\n",
              "    </tr>\n",
              "    <tr>\n",
              "      <th>3</th>\n",
              "      <td>3</td>\n",
              "      <td>3831</td>\n",
              "      <td>Cozy Entire Floor of Brownstone</td>\n",
              "      <td>4869</td>\n",
              "      <td>LisaRoxanne</td>\n",
              "      <td>Brooklyn</td>\n",
              "      <td>Clinton Hill</td>\n",
              "      <td>40.68514</td>\n",
              "      <td>-73.95976</td>\n",
              "      <td>Entire home/apt</td>\n",
              "      <td>89</td>\n",
              "      <td>1</td>\n",
              "      <td>270</td>\n",
              "      <td>2019-07-05</td>\n",
              "      <td>4.64</td>\n",
              "      <td>1</td>\n",
              "      <td>194</td>\n",
              "    </tr>\n",
              "    <tr>\n",
              "      <th>4</th>\n",
              "      <td>4</td>\n",
              "      <td>5022</td>\n",
              "      <td>Entire Apt: Spacious Studio/Loft by central park</td>\n",
              "      <td>7192</td>\n",
              "      <td>Laura</td>\n",
              "      <td>Manhattan</td>\n",
              "      <td>East Harlem</td>\n",
              "      <td>40.79851</td>\n",
              "      <td>-73.94399</td>\n",
              "      <td>Entire home/apt</td>\n",
              "      <td>80</td>\n",
              "      <td>10</td>\n",
              "      <td>9</td>\n",
              "      <td>2018-11-19</td>\n",
              "      <td>0.10</td>\n",
              "      <td>1</td>\n",
              "      <td>0</td>\n",
              "    </tr>\n",
              "  </tbody>\n",
              "</table>\n",
              "</div>\n",
              "    <div class=\"colab-df-buttons\">\n",
              "\n",
              "  <div class=\"colab-df-container\">\n",
              "    <button class=\"colab-df-convert\" onclick=\"convertToInteractive('df-41d950c6-e466-4f02-987d-574c3c269f7d')\"\n",
              "            title=\"Convert this dataframe to an interactive table.\"\n",
              "            style=\"display:none;\">\n",
              "\n",
              "  <svg xmlns=\"http://www.w3.org/2000/svg\" height=\"24px\" viewBox=\"0 -960 960 960\">\n",
              "    <path d=\"M120-120v-720h720v720H120Zm60-500h600v-160H180v160Zm220 220h160v-160H400v160Zm0 220h160v-160H400v160ZM180-400h160v-160H180v160Zm440 0h160v-160H620v160ZM180-180h160v-160H180v160Zm440 0h160v-160H620v160Z\"/>\n",
              "  </svg>\n",
              "    </button>\n",
              "\n",
              "  <style>\n",
              "    .colab-df-container {\n",
              "      display:flex;\n",
              "      gap: 12px;\n",
              "    }\n",
              "\n",
              "    .colab-df-convert {\n",
              "      background-color: #E8F0FE;\n",
              "      border: none;\n",
              "      border-radius: 50%;\n",
              "      cursor: pointer;\n",
              "      display: none;\n",
              "      fill: #1967D2;\n",
              "      height: 32px;\n",
              "      padding: 0 0 0 0;\n",
              "      width: 32px;\n",
              "    }\n",
              "\n",
              "    .colab-df-convert:hover {\n",
              "      background-color: #E2EBFA;\n",
              "      box-shadow: 0px 1px 2px rgba(60, 64, 67, 0.3), 0px 1px 3px 1px rgba(60, 64, 67, 0.15);\n",
              "      fill: #174EA6;\n",
              "    }\n",
              "\n",
              "    .colab-df-buttons div {\n",
              "      margin-bottom: 4px;\n",
              "    }\n",
              "\n",
              "    [theme=dark] .colab-df-convert {\n",
              "      background-color: #3B4455;\n",
              "      fill: #D2E3FC;\n",
              "    }\n",
              "\n",
              "    [theme=dark] .colab-df-convert:hover {\n",
              "      background-color: #434B5C;\n",
              "      box-shadow: 0px 1px 3px 1px rgba(0, 0, 0, 0.15);\n",
              "      filter: drop-shadow(0px 1px 2px rgba(0, 0, 0, 0.3));\n",
              "      fill: #FFFFFF;\n",
              "    }\n",
              "  </style>\n",
              "\n",
              "    <script>\n",
              "      const buttonEl =\n",
              "        document.querySelector('#df-41d950c6-e466-4f02-987d-574c3c269f7d button.colab-df-convert');\n",
              "      buttonEl.style.display =\n",
              "        google.colab.kernel.accessAllowed ? 'block' : 'none';\n",
              "\n",
              "      async function convertToInteractive(key) {\n",
              "        const element = document.querySelector('#df-41d950c6-e466-4f02-987d-574c3c269f7d');\n",
              "        const dataTable =\n",
              "          await google.colab.kernel.invokeFunction('convertToInteractive',\n",
              "                                                    [key], {});\n",
              "        if (!dataTable) return;\n",
              "\n",
              "        const docLinkHtml = 'Like what you see? Visit the ' +\n",
              "          '<a target=\"_blank\" href=https://colab.research.google.com/notebooks/data_table.ipynb>data table notebook</a>'\n",
              "          + ' to learn more about interactive tables.';\n",
              "        element.innerHTML = '';\n",
              "        dataTable['output_type'] = 'display_data';\n",
              "        await google.colab.output.renderOutput(dataTable, element);\n",
              "        const docLink = document.createElement('div');\n",
              "        docLink.innerHTML = docLinkHtml;\n",
              "        element.appendChild(docLink);\n",
              "      }\n",
              "    </script>\n",
              "  </div>\n",
              "\n",
              "\n",
              "<div id=\"df-747240df-c0fc-4c39-9438-66aa1e279910\">\n",
              "  <button class=\"colab-df-quickchart\" onclick=\"quickchart('df-747240df-c0fc-4c39-9438-66aa1e279910')\"\n",
              "            title=\"Suggest charts\"\n",
              "            style=\"display:none;\">\n",
              "\n",
              "<svg xmlns=\"http://www.w3.org/2000/svg\" height=\"24px\"viewBox=\"0 0 24 24\"\n",
              "     width=\"24px\">\n",
              "    <g>\n",
              "        <path d=\"M19 3H5c-1.1 0-2 .9-2 2v14c0 1.1.9 2 2 2h14c1.1 0 2-.9 2-2V5c0-1.1-.9-2-2-2zM9 17H7v-7h2v7zm4 0h-2V7h2v10zm4 0h-2v-4h2v4z\"/>\n",
              "    </g>\n",
              "</svg>\n",
              "  </button>\n",
              "\n",
              "<style>\n",
              "  .colab-df-quickchart {\n",
              "      --bg-color: #E8F0FE;\n",
              "      --fill-color: #1967D2;\n",
              "      --hover-bg-color: #E2EBFA;\n",
              "      --hover-fill-color: #174EA6;\n",
              "      --disabled-fill-color: #AAA;\n",
              "      --disabled-bg-color: #DDD;\n",
              "  }\n",
              "\n",
              "  [theme=dark] .colab-df-quickchart {\n",
              "      --bg-color: #3B4455;\n",
              "      --fill-color: #D2E3FC;\n",
              "      --hover-bg-color: #434B5C;\n",
              "      --hover-fill-color: #FFFFFF;\n",
              "      --disabled-bg-color: #3B4455;\n",
              "      --disabled-fill-color: #666;\n",
              "  }\n",
              "\n",
              "  .colab-df-quickchart {\n",
              "    background-color: var(--bg-color);\n",
              "    border: none;\n",
              "    border-radius: 50%;\n",
              "    cursor: pointer;\n",
              "    display: none;\n",
              "    fill: var(--fill-color);\n",
              "    height: 32px;\n",
              "    padding: 0;\n",
              "    width: 32px;\n",
              "  }\n",
              "\n",
              "  .colab-df-quickchart:hover {\n",
              "    background-color: var(--hover-bg-color);\n",
              "    box-shadow: 0 1px 2px rgba(60, 64, 67, 0.3), 0 1px 3px 1px rgba(60, 64, 67, 0.15);\n",
              "    fill: var(--button-hover-fill-color);\n",
              "  }\n",
              "\n",
              "  .colab-df-quickchart-complete:disabled,\n",
              "  .colab-df-quickchart-complete:disabled:hover {\n",
              "    background-color: var(--disabled-bg-color);\n",
              "    fill: var(--disabled-fill-color);\n",
              "    box-shadow: none;\n",
              "  }\n",
              "\n",
              "  .colab-df-spinner {\n",
              "    border: 2px solid var(--fill-color);\n",
              "    border-color: transparent;\n",
              "    border-bottom-color: var(--fill-color);\n",
              "    animation:\n",
              "      spin 1s steps(1) infinite;\n",
              "  }\n",
              "\n",
              "  @keyframes spin {\n",
              "    0% {\n",
              "      border-color: transparent;\n",
              "      border-bottom-color: var(--fill-color);\n",
              "      border-left-color: var(--fill-color);\n",
              "    }\n",
              "    20% {\n",
              "      border-color: transparent;\n",
              "      border-left-color: var(--fill-color);\n",
              "      border-top-color: var(--fill-color);\n",
              "    }\n",
              "    30% {\n",
              "      border-color: transparent;\n",
              "      border-left-color: var(--fill-color);\n",
              "      border-top-color: var(--fill-color);\n",
              "      border-right-color: var(--fill-color);\n",
              "    }\n",
              "    40% {\n",
              "      border-color: transparent;\n",
              "      border-right-color: var(--fill-color);\n",
              "      border-top-color: var(--fill-color);\n",
              "    }\n",
              "    60% {\n",
              "      border-color: transparent;\n",
              "      border-right-color: var(--fill-color);\n",
              "    }\n",
              "    80% {\n",
              "      border-color: transparent;\n",
              "      border-right-color: var(--fill-color);\n",
              "      border-bottom-color: var(--fill-color);\n",
              "    }\n",
              "    90% {\n",
              "      border-color: transparent;\n",
              "      border-bottom-color: var(--fill-color);\n",
              "    }\n",
              "  }\n",
              "</style>\n",
              "\n",
              "  <script>\n",
              "    async function quickchart(key) {\n",
              "      const quickchartButtonEl =\n",
              "        document.querySelector('#' + key + ' button');\n",
              "      quickchartButtonEl.disabled = true;  // To prevent multiple clicks.\n",
              "      quickchartButtonEl.classList.add('colab-df-spinner');\n",
              "      try {\n",
              "        const charts = await google.colab.kernel.invokeFunction(\n",
              "            'suggestCharts', [key], {});\n",
              "      } catch (error) {\n",
              "        console.error('Error during call to suggestCharts:', error);\n",
              "      }\n",
              "      quickchartButtonEl.classList.remove('colab-df-spinner');\n",
              "      quickchartButtonEl.classList.add('colab-df-quickchart-complete');\n",
              "    }\n",
              "    (() => {\n",
              "      let quickchartButtonEl =\n",
              "        document.querySelector('#df-747240df-c0fc-4c39-9438-66aa1e279910 button');\n",
              "      quickchartButtonEl.style.display =\n",
              "        google.colab.kernel.accessAllowed ? 'block' : 'none';\n",
              "    })();\n",
              "  </script>\n",
              "</div>\n",
              "    </div>\n",
              "  </div>\n"
            ]
          },
          "metadata": {},
          "execution_count": 39
        }
      ]
    },
    {
      "cell_type": "markdown",
      "source": [
        "## Missing Data"
      ],
      "metadata": {
        "id": "g5z8sGmV2f-H"
      }
    },
    {
      "cell_type": "markdown",
      "source": [
        "Now we have some idea of our data, we can move on to cleaning it by first checking for missing values."
      ],
      "metadata": {
        "id": "UgGV0C8I2kOg"
      }
    },
    {
      "cell_type": "markdown",
      "source": [
        "The two common methods to deal with missing values are\n",
        "\n",
        "1. Omission: dropping the rows / columns\n",
        "2. Imputation: imputing missing value based on other observations i.e. the mean or median."
      ],
      "metadata": {
        "id": "oQLtundt23FR"
      }
    },
    {
      "cell_type": "markdown",
      "source": [
        "### Columns with missing values"
      ],
      "metadata": {
        "id": "4k0ePaAj3U6t"
      }
    },
    {
      "cell_type": "markdown",
      "source": [
        "If you want to see missing values for all columns, use this command:"
      ],
      "metadata": {
        "id": "kCpccgjb3aq1"
      }
    },
    {
      "cell_type": "code",
      "source": [
        "airbnb.isnull().sum()"
      ],
      "metadata": {
        "colab": {
          "base_uri": "https://localhost:8080/"
        },
        "id": "GSeaOI952O4N",
        "outputId": "209729d1-ed2d-4f7e-9fa0-087a21f0644d"
      },
      "execution_count": 40,
      "outputs": [
        {
          "output_type": "execute_result",
          "data": {
            "text/plain": [
              "Unnamed: 0                            0\n",
              "id                                    0\n",
              "name                                 16\n",
              "host_id                               0\n",
              "host_name                            21\n",
              "neighbourhood_group                   0\n",
              "neighbourhood                         0\n",
              "latitude                              0\n",
              "longitude                             0\n",
              "room_type                             0\n",
              "price                                 0\n",
              "minimum_nights                        0\n",
              "number_of_reviews                     0\n",
              "last_review                       10052\n",
              "reviews_per_month                 10052\n",
              "calculated_host_listings_count        0\n",
              "availability_365                      0\n",
              "dtype: int64"
            ]
          },
          "metadata": {},
          "execution_count": 40
        }
      ]
    },
    {
      "cell_type": "markdown",
      "source": [
        "As we can see above, columns like `name`, `host_name`, `last_review`, `reviews_per_month` have some missing values."
      ],
      "metadata": {
        "id": "lNToon-43wNg"
      }
    },
    {
      "cell_type": "markdown",
      "source": [
        "## Technique to deal with missing values"
      ],
      "metadata": {
        "id": "EZ_Ygwgx4YqU"
      }
    },
    {
      "cell_type": "markdown",
      "source": [
        "1. Drop the feature with missing values\n",
        "2. Drop the row with missing values\n",
        "3. Impute the missing values with some statistics\n",
        "4. Replace missing values with other choices"
      ],
      "metadata": {
        "id": "i-2m44lM4arQ"
      }
    },
    {
      "cell_type": "markdown",
      "source": [
        "### Dropping the variable/column"
      ],
      "metadata": {
        "id": "E1kIUxnm4lkM"
      }
    },
    {
      "cell_type": "markdown",
      "source": [
        "Dropping feature usually isn’t recommended because you’re losing information. But if you’re sure that the column isn’t important, or simply has too many missing values, you can choose to drop them. For example, for this dataset, the host_name column was removed for ethical reasons, and id was removed because it was was unnecessary.\n",
        "\n",
        "To drop features, use drop and set axis to 1 and inplace to true. Axis is 1 because we want to drop columns (0 means row), and inplace is True because you're transforming it directly on your dataset."
      ],
      "metadata": {
        "id": "cjKkGD_Q4pGl"
      }
    },
    {
      "cell_type": "code",
      "source": [
        "# Drop unnecessary columns that are not important\n",
        "colsToDrop = ['id','host_name','last_review']\n",
        "\n",
        "airbnb.drop(colsToDrop, axis=1, inplace=True)"
      ],
      "metadata": {
        "id": "pR1rPbVY3jfK"
      },
      "execution_count": 41,
      "outputs": []
    },
    {
      "cell_type": "markdown",
      "source": [
        "## Dropping the row"
      ],
      "metadata": {
        "id": "6wBJSPNG9Y59"
      }
    },
    {
      "cell_type": "markdown",
      "source": [
        "If you want to remove rows, you do so using dropna. We can do this on columns with NA values."
      ],
      "metadata": {
        "id": "bx2zU_2E9awX"
      }
    },
    {
      "cell_type": "code",
      "source": [
        "airbnb.isna().sum()"
      ],
      "metadata": {
        "colab": {
          "base_uri": "https://localhost:8080/"
        },
        "id": "pF1O4QNt9Zuv",
        "outputId": "b47dfb7f-1777-48df-a81a-07fc89a59bd8"
      },
      "execution_count": 42,
      "outputs": [
        {
          "output_type": "execute_result",
          "data": {
            "text/plain": [
              "Unnamed: 0                            0\n",
              "name                                 16\n",
              "host_id                               0\n",
              "neighbourhood_group                   0\n",
              "neighbourhood                         0\n",
              "latitude                              0\n",
              "longitude                             0\n",
              "room_type                             0\n",
              "price                                 0\n",
              "minimum_nights                        0\n",
              "number_of_reviews                     0\n",
              "reviews_per_month                 10052\n",
              "calculated_host_listings_count        0\n",
              "availability_365                      0\n",
              "dtype: int64"
            ]
          },
          "metadata": {},
          "execution_count": 42
        }
      ]
    },
    {
      "cell_type": "markdown",
      "source": [
        "We can remove rows with NA values in `name` and `reviews_per_month`"
      ],
      "metadata": {
        "id": "RnRL9APi9u55"
      }
    },
    {
      "cell_type": "code",
      "source": [
        "airbnb_filtered = airbnb.dropna(subset=['name', 'reviews_per_month'])"
      ],
      "metadata": {
        "id": "Mu5_DdOh9_Cg"
      },
      "execution_count": 43,
      "outputs": []
    },
    {
      "cell_type": "markdown",
      "source": [
        "Now, we can again check to see if there are any NA/missing values in the dataframe."
      ],
      "metadata": {
        "id": "iNiqonqs_7bm"
      }
    },
    {
      "cell_type": "code",
      "source": [
        "airbnb_filtered.isna().sum()"
      ],
      "metadata": {
        "colab": {
          "base_uri": "https://localhost:8080/"
        },
        "id": "cOoz2a3r-Fov",
        "outputId": "9f270681-d20d-47a9-cf40-7ee6ccb7f601"
      },
      "execution_count": 44,
      "outputs": [
        {
          "output_type": "execute_result",
          "data": {
            "text/plain": [
              "Unnamed: 0                        0\n",
              "name                              0\n",
              "host_id                           0\n",
              "neighbourhood_group               0\n",
              "neighbourhood                     0\n",
              "latitude                          0\n",
              "longitude                         0\n",
              "room_type                         0\n",
              "price                             0\n",
              "minimum_nights                    0\n",
              "number_of_reviews                 0\n",
              "reviews_per_month                 0\n",
              "calculated_host_listings_count    0\n",
              "availability_365                  0\n",
              "dtype: int64"
            ]
          },
          "metadata": {},
          "execution_count": 44
        }
      ]
    },
    {
      "cell_type": "markdown",
      "source": [
        "However, if we want to remove all rows in a dataframe, whose all values are missing, we can just do: airbnb.dropna()\n",
        "\n",
        "To read more about this function, check out https://thispointer.com/pandas-drop-rows-from-a-dataframe-with-missing-values-or-nan-in-columns/"
      ],
      "metadata": {
        "id": "0QX89XI5AFdC"
      }
    },
    {
      "cell_type": "markdown",
      "source": [
        "## Imputing missing values with the mean"
      ],
      "metadata": {
        "id": "BYJCTFDrAtHf"
      }
    },
    {
      "cell_type": "markdown",
      "source": [
        "We can perform imputing by using one of the techniques called `fillna`.\n",
        "\n",
        "fillna — filling in null values based on given value (mean, median, mode, or specified value)"
      ],
      "metadata": {
        "id": "-H5RZ1nXAu6E"
      }
    },
    {
      "cell_type": "code",
      "source": [
        "# imputing price with mean\n",
        "price_mean_value = round(airbnb['price'].mean(), 2)\n",
        "airbnb['price'].fillna(price_mean_value, inplace=True)"
      ],
      "metadata": {
        "id": "7Z8xL7jQ-H5A"
      },
      "execution_count": 45,
      "outputs": []
    },
    {
      "cell_type": "markdown",
      "source": [
        "## Replace missing values with others"
      ],
      "metadata": {
        "id": "55M1YfW3CCyv"
      }
    },
    {
      "cell_type": "markdown",
      "source": [
        "To replace values, the fillna function is also used.\n",
        "\n",
        "You define the value you want to replace in the key, and the substitute in the value — {column_name: replacement_for_NA}\n",
        "\n",
        "Here are examples for replacing values in the columns reviews_per_month and name"
      ],
      "metadata": {
        "id": "UMAZhWbPCCoD"
      }
    },
    {
      "cell_type": "code",
      "source": [
        "# replace null values in reviews_per_month with 0\n",
        "airbnb.fillna({'reviews_per_month':0}, inplace=True)\n",
        "\n",
        "airbnb.isna().sum()"
      ],
      "metadata": {
        "colab": {
          "base_uri": "https://localhost:8080/"
        },
        "id": "Z0pSD2ebCPdp",
        "outputId": "de3380d3-ee22-4b6a-fbff-2691e253557d"
      },
      "execution_count": 46,
      "outputs": [
        {
          "output_type": "execute_result",
          "data": {
            "text/plain": [
              "Unnamed: 0                         0\n",
              "name                              16\n",
              "host_id                            0\n",
              "neighbourhood_group                0\n",
              "neighbourhood                      0\n",
              "latitude                           0\n",
              "longitude                          0\n",
              "room_type                          0\n",
              "price                              0\n",
              "minimum_nights                     0\n",
              "number_of_reviews                  0\n",
              "reviews_per_month                  0\n",
              "calculated_host_listings_count     0\n",
              "availability_365                   0\n",
              "dtype: int64"
            ]
          },
          "metadata": {},
          "execution_count": 46
        }
      ]
    },
    {
      "cell_type": "markdown",
      "source": [
        "As we can see, we only have `name` column with NA values."
      ],
      "metadata": {
        "id": "qg6Xk8ULCibS"
      }
    },
    {
      "cell_type": "code",
      "source": [
        "# replace null values in name with 'None'\n",
        "airbnb.fillna({'name':'None'}, inplace=True)"
      ],
      "metadata": {
        "id": "kvD7ZOSbCVpa"
      },
      "execution_count": 47,
      "outputs": []
    },
    {
      "cell_type": "code",
      "source": [
        "airbnb.isna().sum()"
      ],
      "metadata": {
        "colab": {
          "base_uri": "https://localhost:8080/"
        },
        "id": "fMjnXViXCqP7",
        "outputId": "06639274-c25a-4450-ef2a-75654bc5e98d"
      },
      "execution_count": 48,
      "outputs": [
        {
          "output_type": "execute_result",
          "data": {
            "text/plain": [
              "Unnamed: 0                        0\n",
              "name                              0\n",
              "host_id                           0\n",
              "neighbourhood_group               0\n",
              "neighbourhood                     0\n",
              "latitude                          0\n",
              "longitude                         0\n",
              "room_type                         0\n",
              "price                             0\n",
              "minimum_nights                    0\n",
              "number_of_reviews                 0\n",
              "reviews_per_month                 0\n",
              "calculated_host_listings_count    0\n",
              "availability_365                  0\n",
              "dtype: int64"
            ]
          },
          "metadata": {},
          "execution_count": 48
        }
      ]
    },
    {
      "cell_type": "markdown",
      "source": [
        "We've successfully removed all the NA values from the data frame!"
      ],
      "metadata": {
        "id": "7FO0hW_SCsX9"
      }
    },
    {
      "cell_type": "markdown",
      "source": [
        "# Inconsistent data\n",
        "Inconsistent data refers to things like spelling errors in your data, the wrong data type, etc."
      ],
      "metadata": {
        "id": "TrQMQKvJC0PC"
      }
    },
    {
      "cell_type": "markdown",
      "source": [
        "## Spelling errors in categorical data"
      ],
      "metadata": {
        "id": "BG4oPLtLDvCn"
      }
    },
    {
      "cell_type": "markdown",
      "source": [
        "Sometimes your categorical data might have spelling errors or different capitalization that can mess up your categorization.\n",
        "Let's look at the neighbourhood_group column as an example."
      ],
      "metadata": {
        "id": "axeblP2xDyu6"
      }
    },
    {
      "cell_type": "code",
      "source": [
        "airbnb['neighbourhood_group'].value_counts()"
      ],
      "metadata": {
        "colab": {
          "base_uri": "https://localhost:8080/"
        },
        "id": "T2d0YtKYDuB0",
        "outputId": "a6e78964-9097-445e-9c00-d25d5512a325"
      },
      "execution_count": 49,
      "outputs": [
        {
          "output_type": "execute_result",
          "data": {
            "text/plain": [
              "Manhattan        21661\n",
              "Brooklyn         20104\n",
              "Queens            5666\n",
              "Bronx             1091\n",
              "Staten Island      373\n",
              "Name: neighbourhood_group, dtype: int64"
            ]
          },
          "metadata": {},
          "execution_count": 49
        }
      ]
    },
    {
      "cell_type": "markdown",
      "source": [
        "You can see now how the categorization is messed up. “Manhattan” and “manhatann” refer to the same thing, but they aren’t in the same category because of capitalization. Same goes for “brookln” due to spelling issues.\n",
        "\n",
        "We can fix this by using the replace function in pandas. We first give the values that are wrong, then supply the right ones. Notice the values have to match each other in the list, i.e. “manhatann” → “Manhattan”."
      ],
      "metadata": {
        "id": "e3lIR2grD9D9"
      }
    },
    {
      "cell_type": "code",
      "source": [
        "random_index = airbnb.sample(2, random_state = 10).index\n",
        "\n",
        "## we randomly selected Manhattan and Brooklyn\n",
        "\n",
        "wrong_spelling = ['manhatann', 'brookln']\n",
        "\n",
        "# replace them with the wrong spelling\n",
        "airbnb.loc[random_index,'neighbourhood_group'] = wrong_spelling\n",
        "airbnb['neighbourhood_group'].value_counts()\n"
      ],
      "metadata": {
        "colab": {
          "base_uri": "https://localhost:8080/"
        },
        "id": "DyWBlbg5D7ok",
        "outputId": "0677b07f-dde4-4c32-da70-713b113f9ad3"
      },
      "execution_count": 50,
      "outputs": [
        {
          "output_type": "execute_result",
          "data": {
            "text/plain": [
              "Manhattan        21660\n",
              "Brooklyn         20103\n",
              "Queens            5666\n",
              "Bronx             1091\n",
              "Staten Island      373\n",
              "brookln              1\n",
              "manhatann            1\n",
              "Name: neighbourhood_group, dtype: int64"
            ]
          },
          "metadata": {},
          "execution_count": 50
        }
      ]
    },
    {
      "cell_type": "code",
      "source": [
        "airbnb['neighbourhood_group'].replace(['manhatann', 'brookln'],\n",
        "                             ['Manhattan', 'Brooklyn'], inplace=True)\n",
        "airbnb['neighbourhood_group'].value_counts()"
      ],
      "metadata": {
        "colab": {
          "base_uri": "https://localhost:8080/"
        },
        "id": "g4NffYDbEF3F",
        "outputId": "1e12f6c8-6603-4c88-c113-47ecc0f273e6"
      },
      "execution_count": 51,
      "outputs": [
        {
          "output_type": "execute_result",
          "data": {
            "text/plain": [
              "Manhattan        21661\n",
              "Brooklyn         20104\n",
              "Queens            5666\n",
              "Bronx             1091\n",
              "Staten Island      373\n",
              "Name: neighbourhood_group, dtype: int64"
            ]
          },
          "metadata": {},
          "execution_count": 51
        }
      ]
    },
    {
      "cell_type": "markdown",
      "source": [
        "# Duplicates\n",
        "There are cases where your rows have duplicate values, this could’ve happened due to some mishaps in your data collection.\n",
        "To find out if you have duplicated values, call duplicated().any() on your data frame, and if it’s true, use the drop_duplicates function\n",
        "You can also specify columns where you want to remove duplicate values like below."
      ],
      "metadata": {
        "id": "VJqHkltXEwA4"
      }
    },
    {
      "cell_type": "code",
      "source": [
        "airbnb.duplicated().any()\n",
        "\n",
        "## if true\n",
        "# airbnb.drop_duplicates()\n",
        "\n",
        "## if you want to drop duplicates at specific column\n",
        "# airbnb.drop('col_name', axis=1, inplace=True).drop_duplicates()"
      ],
      "metadata": {
        "colab": {
          "base_uri": "https://localhost:8080/"
        },
        "id": "StKlCYHiEq51",
        "outputId": "bbb5d1f9-9f9c-4b30-f6c6-5b054fe9a339"
      },
      "execution_count": 52,
      "outputs": [
        {
          "output_type": "execute_result",
          "data": {
            "text/plain": [
              "False"
            ]
          },
          "metadata": {},
          "execution_count": 52
        }
      ]
    },
    {
      "cell_type": "markdown",
      "source": [
        "## Irrelevant Data\n",
        "If it is an irrelevant variable, we need to drop that variable. Refer to the 'drop the column' example in Missing Data section.\n",
        "\n",
        "If it is an irrelevant row, we need to drop that variable. Refer to the 'drop the row' example in Missing Data section.\n"
      ],
      "metadata": {
        "id": "rebTBX2l2PPn"
      }
    },
    {
      "cell_type": "markdown",
      "source": [
        "# Outliers\n",
        "\n",
        "Outliers can be dangerous as they can skew your model and give you predictions that are biased and erroneous.\n",
        "The best way to find outliers is to use the describe function and look at information such as maximum and mean."
      ],
      "metadata": {
        "id": "sJ-wivpvFLMc"
      }
    },
    {
      "cell_type": "code",
      "source": [
        "airbnb['price'].describe()"
      ],
      "metadata": {
        "colab": {
          "base_uri": "https://localhost:8080/"
        },
        "id": "lYV7b3OeE39H",
        "outputId": "1acac1fa-f684-4200-d5d4-675070215995"
      },
      "execution_count": 53,
      "outputs": [
        {
          "output_type": "execute_result",
          "data": {
            "text/plain": [
              "count    48895.000000\n",
              "mean       152.720687\n",
              "std        240.154170\n",
              "min          0.000000\n",
              "25%         69.000000\n",
              "50%        106.000000\n",
              "75%        175.000000\n",
              "max      10000.000000\n",
              "Name: price, dtype: float64"
            ]
          },
          "metadata": {},
          "execution_count": 53
        }
      ]
    },
    {
      "cell_type": "markdown",
      "source": [
        "You can also plot a histogram and look at the distribution of your data.\n",
        "In this histogram, you can see that most of the data is around 0 to 5000."
      ],
      "metadata": {
        "id": "2zYdQFbiFhzo"
      }
    },
    {
      "cell_type": "code",
      "source": [
        "plt.figure(figsize=(10, 6))\n",
        "airbnb['price'].hist(bins=100)"
      ],
      "metadata": {
        "colab": {
          "base_uri": "https://localhost:8080/",
          "height": 540
        },
        "id": "_lNo2CH6FWAA",
        "outputId": "9f88612b-2fa1-40e1-cecb-03da012362a6"
      },
      "execution_count": 54,
      "outputs": [
        {
          "output_type": "execute_result",
          "data": {
            "text/plain": [
              "<Axes: >"
            ]
          },
          "metadata": {},
          "execution_count": 54
        },
        {
          "output_type": "display_data",
          "data": {
            "text/plain": [
              "<Figure size 1000x600 with 1 Axes>"
            ],
            "image/png": "[encoded data removed]"
          },
          "metadata": {}
        }
      ]
    },
    {
      "cell_type": "markdown",
      "source": [
        "As we can see above, there are many outliers in `price` column.\n",
        "\n",
        "There are outliers in `neighborhood_group` too. Manhattan and Brooklyn has significantly more data than Staten Island. This doesn’t count as an outlier, since Manhattan and Brooklyn has a higher housing density as compared to Staten Island."
      ],
      "metadata": {
        "id": "AKCPiThwFx8A"
      }
    },
    {
      "cell_type": "markdown",
      "source": [
        "## Identify Outliers Using Interquartile Range Method\n",
        "The IQR is calculated as the difference between the 75th and the 25th percentiles of the data and defines the box in a box and whisker plot.\n",
        "\n",
        "We can calculate the percentiles of a dataset using the percentile() NumPy function that takes the dataset and specification of the desired percentile. The IQR can then be calculated as the difference between the 75th and 25th percentiles.\n"
      ],
      "metadata": {
        "id": "aDWs5pxSvyQ5"
      }
    },
    {
      "cell_type": "code",
      "source": [
        "# calculate interquartile range\n",
        "q25, q75 = np.percentile(airbnb['price'], 25), np.percentile(airbnb['price'], 75)\n",
        "iqr = q75 - q25\n",
        "\n",
        "# calculate the outlier cutoff\n",
        "cut_off = iqr * 1.5\n",
        "lower, upper = q25 - cut_off, q75 + cut_off\n",
        "\n",
        "# identify outliers\n",
        "outliers = [data for data in airbnb['price'] if data < lower or data > upper]"
      ],
      "metadata": {
        "id": "6xC1AYYZv8zR"
      },
      "execution_count": 55,
      "outputs": []
    },
    {
      "cell_type": "markdown",
      "source": [
        "## Drop Outliers"
      ],
      "metadata": {
        "id": "x1dXUZn63gIa"
      }
    },
    {
      "cell_type": "code",
      "source": [
        "# remove outliers\n",
        "outliers_removed = [data for data in airbnb['price'] if data > lower and data < upper]"
      ],
      "metadata": {
        "id": "4yoovv0p3bAm"
      },
      "execution_count": 56,
      "outputs": []
    },
    {
      "cell_type": "markdown",
      "source": [
        "outliers_removed is the array which contains prices without outliers. We can now assign this array of new values to the airbnb dataframe price column, by first converting it into Series by using pd.Series()."
      ],
      "metadata": {
        "id": "Ur_QEdo2x198"
      }
    },
    {
      "cell_type": "code",
      "source": [
        "airbnb['price'] = pd.Series(outliers_removed)"
      ],
      "metadata": {
        "id": "3dDTsIfMwj24"
      },
      "execution_count": 57,
      "outputs": []
    },
    {
      "cell_type": "markdown",
      "source": [
        "Let's look at the plot of `price` again and analyze the distribution of the values."
      ],
      "metadata": {
        "id": "0FvVoePQyPSk"
      }
    },
    {
      "cell_type": "code",
      "source": [
        "plt.figure(figsize=(10, 6))\n",
        "airbnb['price'].hist(bins=100)"
      ],
      "metadata": {
        "colab": {
          "base_uri": "https://localhost:8080/",
          "height": 540
        },
        "id": "HAu3jMz8xf6S",
        "outputId": "9b076363-00ad-4881-f985-3eb36b6d4d35"
      },
      "execution_count": 58,
      "outputs": [
        {
          "output_type": "execute_result",
          "data": {
            "text/plain": [
              "<Axes: >"
            ]
          },
          "metadata": {},
          "execution_count": 58
        },
        {
          "output_type": "display_data",
          "data": {
            "text/plain": [
              "<Figure size 1000x600 with 1 Axes>"
            ],
            "image/png": "[encoded data removed]"
          },
          "metadata": {}
        }
      ]
    },
    {
      "cell_type": "markdown",
      "source": [
        "As we can see the plot above, we can draw a comparision between first plot (without removing outliers) and the one above. We see that the bars are fairly distributed across different price values instead of being scattered to just one value."
      ],
      "metadata": {
        "id": "ieQhTwEcyYNO"
      }
    },
    {
      "cell_type": "markdown",
      "source": [
        "## Save the Data to Your Google Drive"
      ],
      "metadata": {
        "id": "bKAisNgjbd05"
      }
    },
    {
      "cell_type": "code",
      "source": [
        "airbnb.to_csv(\"/content/drive/MyDrive/IS723_2024S/airbnb_cleaned.csv\")"
      ],
      "metadata": {
        "id": "KvfhxLYGbi-u"
      },
      "execution_count": 62,
      "outputs": []
    },
    {
      "cell_type": "markdown",
      "source": [
        "Reference: https://medium.com/bitgrit-data-science-publication/data-cleaning-with-python-f6bc3da64e45"
      ],
      "metadata": {
        "id": "2J_u-lz9CsId"
      }
    }
  ]
}