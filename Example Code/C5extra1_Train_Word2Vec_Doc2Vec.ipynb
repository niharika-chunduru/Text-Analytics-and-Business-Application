{
  "nbformat": 4,
  "nbformat_minor": 0,
  "metadata": {
    "colab": {
      "provenance": []
    },
    "kernelspec": {
      "name": "python3",
      "display_name": "Python 3"
    },
    "language_info": {
      "name": "python"
    }
  },
  "cells": [
    {
      "cell_type": "markdown",
      "source": [
        "###Training Word2Vec"
      ],
      "metadata": {
        "id": "fkhkyuzig0Vp"
      }
    },
    {
      "cell_type": "code",
      "source": [
        "from gensim.models import Word2Vec\n",
        "import warnings\n",
        "warnings.filterwarnings('ignore')# define training data\n",
        "#Genism word2vec requires that a format of ‘list of lists’ be provided for training where every document contained in a list.\n",
        "#Every list contains lists of tokens of that document.\n",
        "corpus = [['dog','bites','man'], [\"man\", \"bites\" ,\"dog\"],[\"dog\",\"eats\",\"meat\"],[\"man\", \"eats\",\"food\"]]\n",
        "\n",
        "#Training the model\n",
        "model_cbow = Word2Vec(corpus, min_count=1,sg=0) #using CBOW Architecture for trainnig\n",
        "model_skipgram = Word2Vec(corpus, min_count=1,sg=1)#using skipGram Architecture for training"
      ],
      "metadata": {
        "colab": {
          "base_uri": "https://localhost:8080/"
        },
        "id": "XTy7-VyVtc1O",
        "outputId": "fe314a1a-c49e-4efe-aaa6-5c963edd72bb"
      },
      "execution_count": null,
      "outputs": [
        {
          "output_type": "stream",
          "name": "stderr",
          "text": [
            "WARNING:gensim.models.base_any2vec:under 10 jobs per worker: consider setting a smaller `batch_words' for smoother alpha decay\n",
            "WARNING:gensim.models.base_any2vec:under 10 jobs per worker: consider setting a smaller `batch_words' for smoother alpha decay\n"
          ]
        }
      ]
    },
    {
      "cell_type": "markdown",
      "source": [
        "**Continuous Bag of Words (CBOW)**"
      ],
      "metadata": {
        "id": "IgVPat46tn5J"
      }
    },
    {
      "cell_type": "code",
      "source": [
        "#Summarize the loaded model\n",
        "print(model_cbow)\n",
        "\n",
        "#Summarize vocabulary\n",
        "words = list(model_cbow.wv.vocab)\n",
        "print(words)\n",
        "\n",
        "#Acess vector for one word\n",
        "print(model_cbow['dog'])"
      ],
      "metadata": {
        "colab": {
          "base_uri": "https://localhost:8080/"
        },
        "id": "-lU2mPTDteSw",
        "outputId": "a6ecca18-e9f3-4fda-a930-214031332a84"
      },
      "execution_count": null,
      "outputs": [
        {
          "output_type": "stream",
          "name": "stdout",
          "text": [
            "Word2Vec(vocab=6, size=100, alpha=0.025)\n",
            "['dog', 'bites', 'man', 'eats', 'meat', 'food']\n",
            "[ 3.2897668e-03  4.6496373e-03 -4.4211568e-03  3.3648077e-03\n",
            " -1.1701586e-03  1.0055874e-03  4.6089590e-03 -4.5262506e-05\n",
            "  5.8132049e-04 -5.3696829e-04  1.2484964e-03  3.9657694e-03\n",
            "  1.9884675e-03 -8.8840211e-04 -3.0649202e-03 -4.4097835e-03\n",
            " -3.7679812e-03 -4.0984661e-03 -3.9008597e-03 -1.1704471e-03\n",
            " -4.9964855e-03  3.0908786e-04  2.2519611e-04 -4.7683809e-03\n",
            " -1.7676577e-03 -4.6025962e-03  4.1042096e-03 -1.1584435e-03\n",
            "  2.6916882e-03  4.6389741e-03  4.2366772e-03 -3.7566214e-03\n",
            "  1.3053344e-03 -3.1574036e-03  3.7432534e-03 -4.9080858e-03\n",
            "  4.2039519e-03 -3.7083230e-03 -6.2805414e-04 -2.8593657e-03\n",
            "  9.1623917e-04  2.0444888e-04  2.4431532e-03  2.0057396e-03\n",
            "  2.6604258e-03  4.3454873e-03  4.0471465e-03 -2.2070173e-03\n",
            " -3.9086002e-03  2.6548572e-03  2.9771295e-03  2.8717120e-03\n",
            " -2.7624976e-03  2.4746892e-03 -4.3273875e-03  2.8125062e-03\n",
            " -3.1465148e-03 -3.5907680e-03  4.4358894e-03  4.6197162e-03\n",
            " -2.2945730e-03  3.5590013e-03  1.4656506e-04 -1.4709203e-03\n",
            "  1.0804205e-04  5.0445349e-05  2.9489789e-03 -2.6569166e-03\n",
            " -4.4602714e-03 -2.8753707e-03 -1.2582194e-04 -2.3098897e-04\n",
            " -4.3025780e-03 -1.8493894e-03  4.2622029e-03 -3.0606855e-03\n",
            " -4.7312696e-03 -4.7033881e-03 -1.0948557e-03  4.4417409e-03\n",
            " -1.2800569e-03  1.9063217e-03  4.8793033e-03 -3.2919985e-03\n",
            "  4.6364828e-03  1.4707823e-03  2.4285547e-03 -4.2132302e-03\n",
            " -1.4849242e-03 -1.0084823e-03  1.3019276e-03  3.1754631e-03\n",
            "  2.1475868e-03 -6.5508427e-04  1.9089173e-03  3.6321811e-03\n",
            "  2.5356195e-03 -1.7970958e-03  1.4015192e-03  1.9331619e-03]\n"
          ]
        }
      ]
    },
    {
      "cell_type": "code",
      "source": [
        "#Compute similarity\n",
        "print(\"Similarity between eats and bites:\",model_cbow.similarity('eats', 'bites'))\n",
        "print(\"Similarity between eats and man:\",model_cbow.similarity('eats', 'man'))"
      ],
      "metadata": {
        "colab": {
          "base_uri": "https://localhost:8080/"
        },
        "id": "yTm5jyRHtq3w",
        "outputId": "26bd0ada-9c22-4d5c-f405-00e9c29878a4"
      },
      "execution_count": null,
      "outputs": [
        {
          "output_type": "stream",
          "name": "stdout",
          "text": [
            "Similarity between eats and bites: 0.033017933\n",
            "Similarity between eats and man: -0.10586784\n"
          ]
        }
      ]
    },
    {
      "cell_type": "markdown",
      "source": [
        "From the above similarity scores we can conclude that eats is more similar to bites than man."
      ],
      "metadata": {
        "id": "TPjHt6Lgt0PP"
      }
    },
    {
      "cell_type": "code",
      "source": [
        "#Most similarity\n",
        "model_cbow.most_similar('meat')"
      ],
      "metadata": {
        "colab": {
          "base_uri": "https://localhost:8080/"
        },
        "id": "nt2Lem4ottg5",
        "outputId": "62a0fc87-7e45-4985-8d43-99ff78cb812d"
      },
      "execution_count": null,
      "outputs": [
        {
          "output_type": "execute_result",
          "data": {
            "text/plain": [
              "[('man', -0.021876007318496704),\n",
              " ('bites', -0.05190521106123924),\n",
              " ('food', -0.06278383731842041),\n",
              " ('eats', -0.09210361540317535),\n",
              " ('dog', -0.15392762422561646)]"
            ]
          },
          "metadata": {},
          "execution_count": 21
        }
      ]
    },
    {
      "cell_type": "code",
      "source": [
        "# save model\n",
        "model_cbow.save('model_cbow.bin')\n",
        "\n",
        "# load model\n",
        "new_model_cbow = Word2Vec.load('model_cbow.bin')\n",
        "print(new_model_cbow)"
      ],
      "metadata": {
        "colab": {
          "base_uri": "https://localhost:8080/"
        },
        "id": "b08WmLzhvr8b",
        "outputId": "f82b7066-0897-40e6-d9a2-430268a47708"
      },
      "execution_count": null,
      "outputs": [
        {
          "output_type": "stream",
          "name": "stdout",
          "text": [
            "Word2Vec(vocab=6, size=100, alpha=0.025)\n"
          ]
        }
      ]
    },
    {
      "cell_type": "markdown",
      "source": [
        "**SkipGram** </br>\n",
        "In skipgram, the task is to predict the context words from the center word."
      ],
      "metadata": {
        "id": "PJ7nG0WGvuNY"
      }
    },
    {
      "cell_type": "code",
      "source": [
        "#Summarize the loaded model\n",
        "print(model_skipgram)\n",
        "\n",
        "#Summarize vocabulary\n",
        "words = list(model_skipgram.wv.vocab)\n",
        "print(words)\n",
        "\n",
        "#Acess vector for one word\n",
        "print(model_skipgram['dog'])"
      ],
      "metadata": {
        "colab": {
          "base_uri": "https://localhost:8080/"
        },
        "id": "ndVKnBb6vwl4",
        "outputId": "ac679e99-61f5-4b91-b827-4607d39e40b0"
      },
      "execution_count": null,
      "outputs": [
        {
          "output_type": "stream",
          "name": "stdout",
          "text": [
            "Word2Vec(vocab=6, size=100, alpha=0.025)\n",
            "['dog', 'bites', 'man', 'eats', 'meat', 'food']\n",
            "[ 3.2897668e-03  4.6496373e-03 -4.4211568e-03  3.3648077e-03\n",
            " -1.1701586e-03  1.0055874e-03  4.6089590e-03 -4.5262506e-05\n",
            "  5.8132049e-04 -5.3696829e-04  1.2484964e-03  3.9657694e-03\n",
            "  1.9884675e-03 -8.8840211e-04 -3.0649202e-03 -4.4097835e-03\n",
            " -3.7679812e-03 -4.0984661e-03 -3.9008597e-03 -1.1704471e-03\n",
            " -4.9964855e-03  3.0908786e-04  2.2519611e-04 -4.7683809e-03\n",
            " -1.7676577e-03 -4.6025962e-03  4.1042096e-03 -1.1584435e-03\n",
            "  2.6916882e-03  4.6389741e-03  4.2366772e-03 -3.7566214e-03\n",
            "  1.3053344e-03 -3.1574036e-03  3.7432534e-03 -4.9080858e-03\n",
            "  4.2039519e-03 -3.7083230e-03 -6.2805414e-04 -2.8593657e-03\n",
            "  9.1623917e-04  2.0444888e-04  2.4431532e-03  2.0057396e-03\n",
            "  2.6604258e-03  4.3454873e-03  4.0471465e-03 -2.2070173e-03\n",
            " -3.9086002e-03  2.6548572e-03  2.9771295e-03  2.8717120e-03\n",
            " -2.7624976e-03  2.4746892e-03 -4.3273875e-03  2.8125062e-03\n",
            " -3.1465148e-03 -3.5907680e-03  4.4358894e-03  4.6197162e-03\n",
            " -2.2945730e-03  3.5590013e-03  1.4656506e-04 -1.4709203e-03\n",
            "  1.0804205e-04  5.0445349e-05  2.9489789e-03 -2.6569166e-03\n",
            " -4.4602714e-03 -2.8753707e-03 -1.2582194e-04 -2.3098897e-04\n",
            " -4.3025780e-03 -1.8493894e-03  4.2622029e-03 -3.0606855e-03\n",
            " -4.7312696e-03 -4.7033881e-03 -1.0948557e-03  4.4417409e-03\n",
            " -1.2800569e-03  1.9063217e-03  4.8793033e-03 -3.2919985e-03\n",
            "  4.6364828e-03  1.4707823e-03  2.4285547e-03 -4.2132302e-03\n",
            " -1.4849242e-03 -1.0084823e-03  1.3019276e-03  3.1754631e-03\n",
            "  2.1475868e-03 -6.5508427e-04  1.9089173e-03  3.6321811e-03\n",
            "  2.5356195e-03 -1.7970958e-03  1.4015192e-03  1.9331619e-03]\n"
          ]
        }
      ]
    },
    {
      "cell_type": "code",
      "source": [
        "#Compute similarity\n",
        "print(\"Similarity between eats and bites:\",model_skipgram.similarity('eats', 'bites'))\n",
        "print(\"Similarity between eats and man:\",model_skipgram.similarity('eats', 'man'))"
      ],
      "metadata": {
        "colab": {
          "base_uri": "https://localhost:8080/"
        },
        "id": "p-jTBQw9v4xs",
        "outputId": "6fb2a06a-76e2-4c3d-ccf4-716d71b00f42"
      },
      "execution_count": null,
      "outputs": [
        {
          "output_type": "stream",
          "name": "stdout",
          "text": [
            "Similarity between eats and bites: 0.033021368\n",
            "Similarity between eats and man: -0.10586565\n"
          ]
        }
      ]
    },
    {
      "cell_type": "code",
      "source": [
        "#Most similarity\n",
        "model_skipgram.most_similar('meat')"
      ],
      "metadata": {
        "colab": {
          "base_uri": "https://localhost:8080/"
        },
        "id": "Y6uVQWLvwIYa",
        "outputId": "01be78f5-a0db-4e7b-90d9-71464852cc48"
      },
      "execution_count": null,
      "outputs": [
        {
          "output_type": "execute_result",
          "data": {
            "text/plain": [
              "[('man', -0.021876007318496704),\n",
              " ('bites', -0.05190519243478775),\n",
              " ('food', -0.06278384476900101),\n",
              " ('eats', -0.09217316657304764),\n",
              " ('dog', -0.15392763912677765)]"
            ]
          },
          "metadata": {},
          "execution_count": 25
        }
      ]
    },
    {
      "cell_type": "code",
      "source": [
        "# save model\n",
        "model_skipgram.save('model_skipgram.bin')\n",
        "\n",
        "# load model\n",
        "new_model_skipgram = Word2Vec.load('model_skipgram.bin')\n",
        "print(new_model_skipgram)"
      ],
      "metadata": {
        "id": "C0howCjlwNua",
        "outputId": "7d080822-b55e-4923-c963-aa3db0922a2d",
        "colab": {
          "base_uri": "https://localhost:8080/"
        }
      },
      "execution_count": null,
      "outputs": [
        {
          "output_type": "stream",
          "name": "stdout",
          "text": [
            "Word2Vec(vocab=6, size=100, alpha=0.025)\n"
          ]
        }
      ]
    },
    {
      "cell_type": "markdown",
      "source": [
        "Read more:\n",
        "\n",
        "https://radimrehurek.com/gensim/models/word2vec.html\n",
        "\n",
        "https://www.kaggle.com/code/pierremegret/gensim-word2vec-tutorial"
      ],
      "metadata": {
        "id": "jHlkyTbxhD7t"
      }
    },
    {
      "cell_type": "markdown",
      "source": [
        "###Document Vectors\n",
        "Doc2vec allows us to directly learn the representations for texts of arbitrary lengths (phrases, sentences, paragraphs and documents), by considering the context of words in the text into account."
      ],
      "metadata": {
        "id": "AXH73oKhrZvH"
      }
    },
    {
      "cell_type": "markdown",
      "source": [
        "###Dov2Vec using averaging via spaCy"
      ],
      "metadata": {
        "id": "pXjS4pxIJOVN"
      }
    },
    {
      "cell_type": "markdown",
      "source": [
        "###Training Dov2Vec using Gensim"
      ],
      "metadata": {
        "id": "1Fod6kw4r-6w"
      }
    },
    {
      "cell_type": "code",
      "source": [
        "# To install only the requirements of this notebook, uncomment the lines below and run this cell\n",
        "\n",
        "# ===========================\n",
        "\n",
        "!pip install gensim==3.6.0\n",
        "!pip install spacy==2.2.4\n",
        "!pip install nltk==3.2.5\n",
        "\n",
        "# ==========================="
      ],
      "metadata": {
        "id": "Y2wqmq27ruW1"
      },
      "execution_count": null,
      "outputs": []
    },
    {
      "cell_type": "code",
      "source": [
        "import warnings\n",
        "warnings.filterwarnings('ignore')\n",
        "from gensim.models.doc2vec import Doc2Vec, TaggedDocument\n",
        "from nltk.tokenize import word_tokenize\n",
        "from pprint import pprint\n",
        "import nltk\n",
        "nltk.download('punkt')"
      ],
      "metadata": {
        "id": "gjcsRSZ-sFhn"
      },
      "execution_count": null,
      "outputs": []
    },
    {
      "cell_type": "code",
      "source": [
        "data = [\"dog bites man\",\n",
        "        \"man bites dog\",\n",
        "        \"dog eats meat\",\n",
        "        \"man eats food\"]\n",
        "\n",
        "tagged_data = [TaggedDocument(words=word_tokenize(word.lower()), tags=[str(i)]) for i, word in enumerate(data)]"
      ],
      "metadata": {
        "id": "XHDLHHsosHFk"
      },
      "execution_count": null,
      "outputs": []
    },
    {
      "cell_type": "code",
      "source": [
        "tagged_data"
      ],
      "metadata": {
        "id": "q6N1gfxwsJg1"
      },
      "execution_count": null,
      "outputs": []
    },
    {
      "cell_type": "code",
      "source": [
        "#dbow\n",
        "model_dbow = Doc2Vec(tagged_data,vector_size=20, min_count=1, epochs=2,dm=0)"
      ],
      "metadata": {
        "id": "SHU5h7sIsK7u"
      },
      "execution_count": null,
      "outputs": []
    },
    {
      "cell_type": "code",
      "source": [
        "print(model_dbow.infer_vector(['man','eats','food']))#feature vector of man eats food"
      ],
      "metadata": {
        "id": "5H-1zEYCsLYD"
      },
      "execution_count": null,
      "outputs": []
    },
    {
      "cell_type": "code",
      "source": [
        "model_dbow.wv.most_similar(\"man\",topn=5)#top 5 most simlar words."
      ],
      "metadata": {
        "id": "IroZ52cRsNMk"
      },
      "execution_count": null,
      "outputs": []
    },
    {
      "cell_type": "code",
      "source": [
        "model_dbow.wv.n_similarity([\"dog\"],[\"man\"])"
      ],
      "metadata": {
        "id": "Lg4Nxzr3sNzp"
      },
      "execution_count": null,
      "outputs": []
    },
    {
      "cell_type": "code",
      "source": [
        "#dm\n",
        "model_dm = Doc2Vec(tagged_data, min_count=1, vector_size=20, epochs=2,dm=1)\n",
        "\n",
        "print(\"Inference Vector of man eats food\\n \",model_dm.infer_vector(['man','eats','food']))\n",
        "\n",
        "print(\"Most similar words to man in our corpus\\n\",model_dm.wv.most_similar(\"man\",topn=5))\n",
        "print(\"Similarity between man and dog: \",model_dm.wv.n_similarity([\"dog\"],[\"man\"]))"
      ],
      "metadata": {
        "id": "9LRZITZIsO25"
      },
      "execution_count": null,
      "outputs": []
    },
    {
      "cell_type": "markdown",
      "source": [
        "What happens when we compare between words which are not in the vocabulary?"
      ],
      "metadata": {
        "id": "C4QAC5bPsRcE"
      }
    },
    {
      "cell_type": "code",
      "source": [
        "#model_dm.wv.n_similarity(['covid'],['man'])"
      ],
      "metadata": {
        "id": "QMUxMnWJsP8T"
      },
      "execution_count": null,
      "outputs": []
    }
  ]
}